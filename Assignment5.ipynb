{
 "cells": [
  {
   "cell_type": "code",
   "execution_count": null,
   "id": "ee5336e4-ba58-4c87-8841-1ce031a8e6c6",
   "metadata": {},
   "outputs": [],
   "source": []
  }
 ],
 "metadata": {
  "kernelspec": {
   "display_name": "",
   "name": ""
  },
  "language_info": {
   "name": ""
  }
 },
 "nbformat": 4,
 "nbformat_minor": 5
}
