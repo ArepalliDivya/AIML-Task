#!/usr/bin/env python
# coding: utf-8

# In[31]:


def remove_punc(input_text):
    punctuation_marks = ['.', '.','%', '#', '&', '$', '*', '(',')', '~', '/', '?', '@','!','?']
    output_text = ""
    for char in input_text:
        if char not in punctuation_marks:
            output_text += char
    return output_text


# In[33]:


remove_punc('''Hello!, "How are you?"''')


# In[47]:


def remove_stopwords(input_text):
    stop_words =["is", "and", "the", "a", "an", "in", "on", "at", "of", "then", "this", "there", "if", "it", "was"]
    words = input_text.split()
    filtered_words = []
    for word in words:
        if word.lower() not in stop_words:
            filtered_words.append(word)
    output_text = ' '.join(filtered_words)
    return (output_text)


# In[49]:


remove_stopwords("The movie was good and if is a hit")


# In[ ]:




